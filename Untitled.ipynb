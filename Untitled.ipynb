{
 "cells": [
  {
   "cell_type": "code",
   "execution_count": 157,
   "metadata": {
    "collapsed": false
   },
   "outputs": [],
   "source": [
    "import numpy as np\n",
    "import matplotlib.pyplot as plt\n",
    "import PIL\n",
    "from astropy.io import fits\n",
    "import pylab\n",
    "from scipy import interpolate\n",
    "import sys\n",
    "import time\n",
    "\n",
    "%matplotlib inline"
   ]
  },
  {
   "cell_type": "code",
   "execution_count": null,
   "metadata": {
    "collapsed": true
   },
   "outputs": [],
   "source": [
    "#? filter    ra            dec            sw     sh  # column descriptor\n",
    "   HSC-I  36.753194073  -4.33903606255  4asec  4asec #\n",
    "   HSC-I  34.0253103628  -5.28961637165 4asec  4asec #\n",
    "   HSC-I  343.71756497  0.775301627033  4asec  4asec # list of coordinates\n",
    "   HSC-I  32.1693843884  -6.45466948816 4asec  4asec #\n",
    "   HSC-I  31.7061017323  -4.24795803233 4asec  4asec #\n",
    "   HSC-I  33.4797489178  -5.85588279327 4asec  4asec #\n",
    "   HSC-I  33.4971225345  -4.66252898058 4asec  4asec #\n",
    "   HSC-I  38.4787682956  -5.52457050417 4asec  4asec # list of coordinates\n",
    "   HSC-I  38.2480086808  -5.19600110611 4asec  4asec #\n",
    "   HSC-I  37.6661062244  -5.26645712204 4asec  4asec #\n",
    "                \n",
    "                \n",
    "                \n",
    "36.753194073\n",
    "34.0253103628\n",
    "343.71756497\n",
    "32.1693843884\n",
    "31.7061017323\n",
    "33.4797489178\n",
    "33.4971225345\n",
    "38.4787682956\n",
    "38.2480086808\n",
    "37.6661062244\n",
    "\n",
    "\n",
    "-4.33903606255\n",
    "-5.28961637165\n",
    "0.775301627033\n",
    "-6.45466948816\n",
    "-4.24795803233\n",
    "\n",
    "-5.85588279327\n",
    "-4.66252898058\n",
    "-5.52457050417\n",
    "-5.19600110611\n",
    "-5.26645712204\n",
    "\n"
   ]
  },
  {
   "cell_type": "code",
   "execution_count": 158,
   "metadata": {
    "collapsed": true
   },
   "outputs": [],
   "source": [
    "hdulist1 = fits.open('testQimage1.fits')  # I band image\n",
    "hdulistPSF = fits.open('images/psf_178.168914766_-0.501176508188.fits')\n",
    "Qlist = fits.open('QTOTAL.fits')\n",
    "hdulistQ_G = fits.open('images/Q_178.168914766_-0.501176508188_GBAND.fits')\n",
    "hdulistQ_R = fits.open('images/Q_178.168914766_-0.501176508188_RBAND.fits')\n",
    "# I band above\n",
    "hdulistQ_Z = fits.open('images/Q_178.168914766_-0.501176508188_ZBAND.fits')\n",
    "hdulistQ_Y = fits.open('images/Q_178.168914766_-0.501176508188_YBAND.fits')\n",
    "hdulistPSF_G = fits.open('images/psf_178.168914766_-0.501176508188_GBAND.fits')\n",
    "hdulistPSF_R = fits.open('images/psf_178.168914766_-0.501176508188_RBAND.fits')\n",
    "hdulistPSF_Z = fits.open('images/psf_178.168914766_-0.501176508188_ZBAND.fits')\n",
    "hdulistPSF_Y = fits.open('images/psf_178.168914766_-0.501176508188_YBAND.fits')\n"
   ]
  },
  {
   "cell_type": "code",
   "execution_count": 159,
   "metadata": {
    "collapsed": true
   },
   "outputs": [],
   "source": [
    "im1 = hdulist1[1].data\n",
    "psf = hdulistPSF[0].data\n",
    "QG = hdulistQ_G[1].data\n",
    "QR = hdulistQ_R[1].data\n",
    "QY = hdulistQ_Y[1].data\n",
    "QZ = hdulistQ_Z[1].data\n",
    "PG = hdulistPSF_G[0].data\n",
    "PR = hdulistPSF_R[0].data\n",
    "PZ = hdulistPSF_Z[0].data\n",
    "PY = hdulistPSF_Y[0].data\n",
    "\n",
    "QG = QG[4:44, 4:44] # make into 40 x 40 square\n",
    "QR = QR[4:44, 4:44]\n",
    "QY = QY[4:44, 4:44]\n",
    "QZ = QZ[4:44, 4:44]\n",
    "size1 = im1.shape\n",
    "sizePsf = psf.shape\n",
    "sizeg = QG.shape\n",
    "sizer = QR.shape\n",
    "sizey = QY.shape\n",
    "sizez = QZ.shape"
   ]
  },
  {
   "cell_type": "code",
   "execution_count": 160,
   "metadata": {
    "collapsed": true
   },
   "outputs": [],
   "source": [
    "re_val = np.linspace(0, 20, 40) # In pixels.\n",
    "\n",
    "n_val = [0.500000, 0.511646, 0.523564, 0.535760, 0.548239, 0.561009, 0.574077, 0.587449, 0.601132, 0.615134, \n",
    "        0.629463, 0.644125, 0.659128, 0.674481, 0.690192, 0.706269, 0.722720, 0.739554, 0.756781, 0.774408, 0.792447,\n",
    "        0.810905, 0.829793, 0.849122, 0.868900, 0.889140, 0.909850, 0.931044, 0.952730, 0.974922, 0.997631, 1.02087, \n",
    "        1.04465, 1.06898, 1.09388, 1.11936, 1.14543, 1.17211, 1.19942, 1.22735, 1.25594, 1.28520, 1.31513, 1.34577,\n",
    "        1.37711, 1.40919, 1.44202, 1.47560, 1.50998, 1.54515, 1.58114, 1.61797, 1.65566, 1.69422, 1.73368, \n",
    "        1.77407, 1.81539, 1.85768, 1.90095, 1.94523, 1.99054, 2.03690, 2.08435, 2.13290, 2.18258, 2.23342, 2.28544, \n",
    "        2.33868, 2.39315, 2.44889, 2.50594, 2.56431, 2.62404, 2.68516, 2.74770, 2.81171, 2.87720, 2.94422, 3.01280,\n",
    "        3.08297, 3.15479, 3.22827, 3.30347, 3.38041, 3.45915, 3.53973, 3.62218, 3.70655, 3.79289, 3.88124,\n",
    "        3.97164, 4.06415]\n",
    "\n",
    "b_n_val = [0.693147,  0.715714, 0.738844, 0.762549, 0.786841, 0.811733, 0.837242, 0.863377, 0.890152, 0.917581, \n",
    "          0.945678, 0.97428497, 1.00414, 1.03425, 1.06512, 1.09675, 1.12917, 1.16237, 1.19659, 1.23123, 1.26689,\n",
    "          1.3031702, 1.34075, 1.37902, 1.41820, 1.45832, 1.49938, 1.54143, 1.58446, 1.62852, 1.67362, 1.71979, \n",
    "          1.76705, 1.81544, 1.86496, 1.91565, 1.96754, 2.02064, 2.07499, 2.1305065, 2.18777, 2.24595, 2.30554, 2.36656, \n",
    "          2.4288661, 2.49298, 2.5581791, 2.62540, 2.69396, 2.76411, 2.83590, 2.90938, 2.98457, 3.06153, 3.14028, \n",
    "          3.22088, 3.30337, 3.38779, 3.47419, 3.56261, 3.65330, 3.74587, 3.84060, 3.93754, 4.03676, 4.13830, 4.24222, \n",
    "          4.34858, 4.45718, 4.5686032, 4.68289, 4.79944, 4.9186685, 5.04102, 5.16591, 5.29381, 5.42469, 5.55860, 5.69563,\n",
    "          5.83585, 5.97934, 6.1266911, 6.2769893, 6.4308184, 6.58776, 6.74889, 6.91379, 7.08253, 7.25517, 7.4316895, \n",
    "          7.61277, 7.79751]\n",
    "\n",
    "\n",
    "\n",
    "\n",
    "def sersic(n, b_n, re, r): \n",
    "    return np.e**(-b_n*((r / re)**(1./n) -1))\n",
    "\n"
   ]
  },
  {
   "cell_type": "code",
   "execution_count": 161,
   "metadata": {
    "collapsed": true
   },
   "outputs": [],
   "source": [
    "smallerIm = im1[40:80, 40:80]\n",
    "smallsize = smallerIm.shape"
   ]
  },
  {
   "cell_type": "code",
   "execution_count": 162,
   "metadata": {
    "collapsed": false
   },
   "outputs": [
    {
     "name": "stdout",
     "output_type": "stream",
     "text": [
      "(25, 25)\n",
      "625\n",
      "1849\n",
      "1849\n"
     ]
    }
   ],
   "source": [
    "im = smallerIm[8:33, 8:33]\n",
    "smallsize = im.shape\n",
    "print smallsize\n",
    "print im.flatten().size\n",
    "\n",
    "#psf = psf[8:33, 8:33]\n",
    "print psf.size\n",
    "print psf.flatten().size"
   ]
  },
  {
   "cell_type": "code",
   "execution_count": 285,
   "metadata": {
    "collapsed": false
   },
   "outputs": [
    {
     "name": "stdout",
     "output_type": "stream",
     "text": [
      "625\n"
     ]
    }
   ],
   "source": [
    "total = 0\n",
    "i_index = []\n",
    "j_index = []\n",
    "\n",
    "for i in range(8, 33):\n",
    "    for j in range(8, 33):\n",
    "        i_index.append(i)\n",
    "        j_index.append(j)\n",
    "        #print i, j\n",
    "#print i_index\n",
    "#print j_index\n",
    "\n",
    "index = zip(i_index, j_index)\n",
    "print len(index)\n",
    "\n",
    "i_index = np.asarray(i_index)\n",
    "j_index = np.asarray(j_index)"
   ]
  },
  {
   "cell_type": "code",
   "execution_count": 300,
   "metadata": {
    "collapsed": false
   },
   "outputs": [
    {
     "name": "stdout",
     "output_type": "stream",
     "text": [
      "(625,)\n",
      "(625,)\n"
     ]
    }
   ],
   "source": [
    "r = np.sqrt((i_index-1 - 20)**2 + (j_index-1 - 20)**2)\n",
    "\n",
    "data = smallerIm\n",
    "\n",
    "p = psf[i_index][j_index]\n",
    "d = data[i_index-1][j_index-1]\n",
    "\n",
    "p2 = psf[8:33, 8:33]\n",
    "p2 = p2.flatten()\n",
    "\n",
    "d2 = data[7:32, 7:32]   # same as i-1 j-1?\n",
    "d2 = d2.flatten()\n",
    "\n",
    "\n",
    "r = np.tile(r, (25, 1))\n",
    "\n",
    "# np.tile(r, (25, 1)) or np.tile(r, (1, 25))\n",
    "\n",
    "#print p[0]\n",
    "print p2.shape\n",
    "print d2.shape\n",
    "\n",
    "#print p[:, 8:33].shape\n",
    "#print d[:, 8:33].shape\n",
    "#print r.shape\n"
   ]
  },
  {
   "cell_type": "code",
   "execution_count": 301,
   "metadata": {
    "collapsed": false
   },
   "outputs": [],
   "source": [
    "\n",
    "def calcAB(re, psf, data):\n",
    "    tot = 0\n",
    "    \n",
    "    allChi = []\n",
    "    allA = []\n",
    "    allB = []\n",
    "    \n",
    "    for k in range(92):\n",
    "        sum1 = 0.\n",
    "        sum1A = 0.\n",
    "        sum1B = 0.\n",
    "        dist = 0.\n",
    "        sum2 = 0.\n",
    "        sum2A = 0.\n",
    "        sum2B = 0.\n",
    "        n = n_val[k]\n",
    "        b_n = b_n_val[k]\n",
    "        \n",
    "    \n",
    "        r = np.sqrt((i_index-1 - 20)**2 + (j_index-1 - 20)**2)\n",
    "\n",
    "        p = psf \n",
    "\n",
    "        d = data\n",
    "\n",
    "        s = sersic(n, b_n, re, r)\n",
    "                \n",
    "        sum1 =  np.sum(d * p)\n",
    "        sum1A = np.sum(p * p)\n",
    "        sum1B = np.sum(p * s)\n",
    "            \n",
    "        sum2 =  np.sum(d * s)  \n",
    "        sum2A = np.sum(p * s)\n",
    "        sum2B = np.sum(s * s)\n",
    "                \n",
    "        a = ([[sum1A, sum1B],[sum2A, sum2B]])\n",
    "        b = ([sum1, sum2])\n",
    "        \n",
    "        A, B = np.linalg.solve(a, b)\n",
    "        allA.append(A)\n",
    "        allB.append(B)\n",
    "        allChi.append(calcChi2(re, A, B, n, b_n, psf, data))\n",
    "        #print A, B\n",
    "        \n",
    "        \n",
    "    print chiMin(allChi, allA, allB)\n",
    "    \n",
    "def calcChi2(re, A, B, n, b_n, psf, data):\n",
    "    chi2 = 0.  \n",
    "    for i, j in index:\n",
    "        r = np.sqrt((i -1 - 20)**2 + (j -1 - 20)**2)\n",
    "        chi2 = (A * psf + B * sersic(n, b_n, re, r) - data)**2\n",
    "        chi2_s = sum(chi2)\n",
    "            \n",
    "    return chi2_s\n",
    "\n",
    "def chiMin(allChi, allA, allB):  \n",
    "    allChi2 = np.asarray(allChi)\n",
    "    lowIndex = np.where(allChi2 == allChi2.min())[0][0] ## the way np.where works weird\n",
    "    return allChi[lowIndex], allA[lowIndex], allB[lowIndex], b_n_val[lowIndex], n_val[lowIndex]\n"
   ]
  },
  {
   "cell_type": "code",
   "execution_count": 302,
   "metadata": {
    "collapsed": false
   },
   "outputs": [
    {
     "name": "stdout",
     "output_type": "stream",
     "text": [
      "Fri Apr 28 14:05:34 2017\n",
      "(2452.9343958843838, 913.97903793141575, 0.015059451949389241, 4.34858, 2.33868)\n",
      "Fri Apr 28 14:05:39 2017\n"
     ]
    },
    {
     "data": {
      "text/plain": [
       "'\"\\n\\nchiList = []\\nnList = []\\nchiMini = sys.maxint\\nb_nact= 0\\nn_act = 0\\nAact = 0\\nBact = 0\\nRe_act = 0\\nprint time.ctime()\\nfor i in range(1, 40):\\n    chi, A, B, b_n, n = calcAB(re_val[i], p2, d2)  #  psf, smallerIm\\n    print chi\\n    chiList.append(chi)\\n    nList.append(n)\\n    if chi < chiMini:\\n        chiMini = chi\\n        Aact = A\\n        Bact = B\\n        b_nact = b_n\\n        n_act = n\\n        re_act = re_val[i]\\nprint time.ctime()\\nprint chiMini\\nprint b_nact\\nprint n_act\\nprint re_act\\nprint Bact\\nprint Aact\\n\\n#current best time: 38 seconds\\n'"
      ]
     },
     "execution_count": 302,
     "metadata": {},
     "output_type": "execute_result"
    }
   ],
   "source": [
    "print time.ctime()\n",
    "calcAB(5.64102564103, p2, d2)   # psf, smallerIm\n",
    "print time.ctime()\n",
    "\n",
    "\"\"\"\"\n",
    "\n",
    "chiList = []\n",
    "nList = []\n",
    "chiMini = sys.maxint\n",
    "b_nact= 0\n",
    "n_act = 0\n",
    "Aact = 0\n",
    "Bact = 0\n",
    "Re_act = 0\n",
    "print time.ctime()\n",
    "for i in range(1, 40):\n",
    "    chi, A, B, b_n, n = calcAB(re_val[i], p2, d2)  #  psf, smallerIm\n",
    "    print chi\n",
    "    chiList.append(chi)\n",
    "    nList.append(n)\n",
    "    if chi < chiMini:\n",
    "        chiMini = chi\n",
    "        Aact = A\n",
    "        Bact = B\n",
    "        b_nact = b_n\n",
    "        n_act = n\n",
    "        re_act = re_val[i]\n",
    "print time.ctime()\n",
    "print chiMini\n",
    "print b_nact\n",
    "print n_act\n",
    "print re_act\n",
    "print Bact\n",
    "print Aact\n",
    "\n",
    "#current best time: 38 seconds\n",
    "\"\"\""
   ]
  },
  {
   "cell_type": "code",
   "execution_count": 7,
   "metadata": {
    "collapsed": true
   },
   "outputs": [],
   "source": [
    "# sum (data * psf) = A * sum(psf^2) + B sum(psf * galaxy)\n",
    "# CHI SQUARED Fitting for galaxy and psf model data\n",
    "\n",
    "\n",
    "def calcAB(re):\n",
    "    data = smallerIm   # smallerIm\n",
    "    tot = 0\n",
    "    \n",
    "    allChi = []\n",
    "    allA = []\n",
    "    allB = []\n",
    "        \n",
    "    \n",
    "    for k in range(92):\n",
    "\n",
    "        sum1 = 0.\n",
    "        sum1A = 0.\n",
    "        sum1B = 0.\n",
    "        dist = 0.\n",
    "        \n",
    "        sum2 = 0.\n",
    "        sum2A = 0.\n",
    "        sum2B = 0.\n",
    "        n = n_val[k]\n",
    "        b_n = b_n_val[k]\n",
    "        \n",
    "        \n",
    "        # tigher pixel range for images\n",
    "        for i in range(8, 32):   # start from 1 to avoid accessing -1 for data, end at 40 cause data ends at 40\n",
    "            for j in range(8, 32):\n",
    "                r = np.sqrt((i -1 - 20)**2 + (j -1 - 20)**2) \n",
    "                d = data[i-1][j-1]\n",
    "                p = psf[i][j]\n",
    "                s = sersic(n, b_n, re, r)\n",
    "                sum1 +=  d * p\n",
    "                sum1A += p * p\n",
    "                sum1B += p * s\n",
    "                \n",
    "                sum2 +=  d * s  \n",
    "                sum2A += p * s\n",
    "                sum2B += s * s   \n",
    "       \n",
    "        # solve for A and B\n",
    "        a = ([[sum1A, sum1B],[sum2A, sum2B]])\n",
    "        b = ([sum1, sum2])\n",
    "        \n",
    "        A, B = np.linalg.solve(a, b)\n",
    "        allA.append(A)\n",
    "        allB.append(B)\n",
    "        allChi.append(calcChi2(re, A, B, n, b_n, data))\n",
    "        \n",
    "    return chiMin(allChi, allA, allB)\n",
    "\n",
    "    \n",
    "    \n",
    "def calcChi2(re, A, B, n, b_n, data):\n",
    "    chi2 = 0.  \n",
    "    for i in range (8, 32):\n",
    "        for j in range(8, 32):\n",
    "            r = np.sqrt((i -1 - 20)**2 + (j -1 - 20)**2)\n",
    "            chi2 += (A * psf[i][j] + B * sersic(n, b_n, re, r) - data[i-1][j-1])**2\n",
    "            \n",
    "    return chi2\n",
    "\n",
    "def chiMin(allChi, allA, allB):  \n",
    "    allChi2 = np.asarray(allChi)\n",
    "    lowIndex = np.where(allChi2 == allChi2.min())[0][0] ## the way np.where works weird\n",
    "    return allChi[lowIndex], allA[lowIndex], allB[lowIndex], b_n_val[lowIndex], n_val[lowIndex]\n",
    "\n"
   ]
  },
  {
   "cell_type": "code",
   "execution_count": null,
   "metadata": {
    "collapsed": true
   },
   "outputs": [],
   "source": []
  }
 ],
 "metadata": {
  "kernelspec": {
   "display_name": "Python 2",
   "language": "python",
   "name": "python2"
  },
  "language_info": {
   "codemirror_mode": {
    "name": "ipython",
    "version": 2
   },
   "file_extension": ".py",
   "mimetype": "text/x-python",
   "name": "python",
   "nbconvert_exporter": "python",
   "pygments_lexer": "ipython2",
   "version": "2.7.11"
  }
 },
 "nbformat": 4,
 "nbformat_minor": 0
}
